{
 "cells": [
  {
   "cell_type": "code",
   "execution_count": 46,
   "metadata": {},
   "outputs": [],
   "source": [
    "import pandas as pd\n",
    "from ipynb.fs.full.Logistic_Regression_Model import perform_logistic_regression\n",
    "from sklearn.model_selection import KFold\n",
    "import numpy as np"
   ]
  },
  {
   "cell_type": "markdown",
   "metadata": {},
   "source": [
    "CAN REMOVE:\n",
    "(meanfreq, centroid, skew, maxdom, dfrange, IQR, maxfun, meandom, mindom)\n",
    "\n",
    "kurt"
   ]
  },
  {
   "cell_type": "code",
   "execution_count": 170,
   "metadata": {},
   "outputs": [
    {
     "name": "stdout",
     "output_type": "stream",
     "text": [
      "11\n"
     ]
    }
   ],
   "source": [
    "df = pd.read_csv('../assests/scaled_voice_data.csv')\n",
    "def changed_df(df):\n",
    "    removed_column = input(\"ENTER THE COLUMN TO BE REMOVED\").split(', ')\n",
    "    for i in removed_column:\n",
    "        df = df.drop(i, axis=1)\n",
    "    x = df.drop('gender',axis=1)\n",
    "    y = df['gender']\n",
    "    return x, y\n",
    "\n",
    "x, y = changed_df(df)\n",
    "print(len(x.loc[0]))"
   ]
  },
  {
   "cell_type": "code",
   "execution_count": 171,
   "metadata": {},
   "outputs": [
    {
     "name": "stdout",
     "output_type": "stream",
     "text": [
      "Mean accuracy: 0.9738020604560157\n",
      "Mean Precision: 0.9739359059386941\n",
      "Mean Recall: 0.9738020604560157\n",
      "MeanF1-score: 0.9738075676546967\n"
     ]
    }
   ],
   "source": [
    "k = 10\n",
    "i = 0\n",
    "k_fold = KFold(n_splits=k)\n",
    "\n",
    "# Holds Mean of {accuracy, precision, recall, f1_score}\n",
    "mean_stats = np.zeros(4)\n",
    "\n",
    "for train_index, test_index in k_fold.split(x):\n",
    "    x_train, x_test = x.loc[train_index], x.loc[test_index]\n",
    "    y_train, y_test = y.loc[train_index], y.loc[test_index]\n",
    "    \n",
    "    stats = perform_logistic_regression(x_train, y_train, x_test, y_test, i:=i+1, k, display_stats=False)\n",
    "    mean_stats = mean_stats + stats\n",
    "    \n",
    "# Take mean of {accuracy, precision, recall, f1_score}\n",
    "mean_stats = mean_stats / k\n",
    "\n",
    "print(f\"Mean accuracy: {mean_stats[0]}\")\n",
    "print(f\"Mean Precision: {mean_stats[1]}\")\n",
    "print(f\"Mean Recall: {mean_stats[2]}\")\n",
    "print(f\"MeanF1-score: {mean_stats[3]}\")"
   ]
  },
  {
   "cell_type": "code",
   "execution_count": null,
   "metadata": {},
   "outputs": [],
   "source": []
  }
 ],
 "metadata": {
  "kernelspec": {
   "display_name": "Python 3.10.8 64-bit (microsoft store)",
   "language": "python",
   "name": "python3"
  },
  "language_info": {
   "codemirror_mode": {
    "name": "ipython",
    "version": 3
   },
   "file_extension": ".py",
   "mimetype": "text/x-python",
   "name": "python",
   "nbconvert_exporter": "python",
   "pygments_lexer": "ipython3",
   "version": "3.10.8"
  },
  "orig_nbformat": 4,
  "vscode": {
   "interpreter": {
    "hash": "fbdfaffef3d9f28baa038fdfb9abce831dd78c25a09a325190e17196315b488f"
   }
  }
 },
 "nbformat": 4,
 "nbformat_minor": 2
}
