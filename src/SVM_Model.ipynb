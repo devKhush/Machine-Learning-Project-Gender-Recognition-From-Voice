{
 "cells": [
  {
   "cell_type": "code",
   "execution_count": 24,
   "metadata": {},
   "outputs": [],
   "source": [
    "import numpy as np\n",
    "import pandas as pd\n",
    "import seaborn as sns\n",
    "import matplotlib.pyplot as plt\n",
    "import matplotlib as mpl\n",
    "mpl.rcParams['figure.facecolor'] = 'white'"
   ]
  },
  {
   "cell_type": "code",
   "execution_count": 25,
   "metadata": {},
   "outputs": [],
   "source": [
    "from sklearn.model_selection import train_test_split\n",
    "from sklearn.svm import SVC\n",
    "from sklearn.metrics import log_loss\n",
    "from sklearn import metrics\n",
    "from sklearn.model_selection import KFold"
   ]
  },
  {
   "cell_type": "code",
   "execution_count": 26,
   "metadata": {},
   "outputs": [],
   "source": [
    "import warnings\n",
    "warnings.filterwarnings('ignore')"
   ]
  },
  {
   "cell_type": "code",
   "execution_count": 27,
   "metadata": {},
   "outputs": [],
   "source": [
    "df = pd.read_csv('../assests/scaled_voice_data.csv')"
   ]
  },
  {
   "cell_type": "code",
   "execution_count": 28,
   "metadata": {},
   "outputs": [
    {
     "data": {
      "text/html": [
       "<div>\n",
       "<style scoped>\n",
       "    .dataframe tbody tr th:only-of-type {\n",
       "        vertical-align: middle;\n",
       "    }\n",
       "\n",
       "    .dataframe tbody tr th {\n",
       "        vertical-align: top;\n",
       "    }\n",
       "\n",
       "    .dataframe thead th {\n",
       "        text-align: right;\n",
       "    }\n",
       "</style>\n",
       "<table border=\"1\" class=\"dataframe\">\n",
       "  <thead>\n",
       "    <tr style=\"text-align: right;\">\n",
       "      <th></th>\n",
       "      <th>meanfreq</th>\n",
       "      <th>sd</th>\n",
       "      <th>median</th>\n",
       "      <th>Q25</th>\n",
       "      <th>Q75</th>\n",
       "      <th>IQR</th>\n",
       "      <th>kurt</th>\n",
       "      <th>sp.ent</th>\n",
       "      <th>sfm</th>\n",
       "      <th>mode</th>\n",
       "      <th>meanfun</th>\n",
       "      <th>minfun</th>\n",
       "      <th>modindx</th>\n",
       "      <th>gender</th>\n",
       "    </tr>\n",
       "  </thead>\n",
       "  <tbody>\n",
       "    <tr>\n",
       "      <th>0</th>\n",
       "      <td>0.053833</td>\n",
       "      <td>0.182412</td>\n",
       "      <td>-0.043344</td>\n",
       "      <td>-0.211354</td>\n",
       "      <td>0.539997</td>\n",
       "      <td>0.538854</td>\n",
       "      <td>-0.240888</td>\n",
       "      <td>0.835319</td>\n",
       "      <td>-0.042416</td>\n",
       "      <td>0.207412</td>\n",
       "      <td>-0.837226</td>\n",
       "      <td>0.540973</td>\n",
       "      <td>-0.366495</td>\n",
       "      <td>male</td>\n",
       "    </tr>\n",
       "    <tr>\n",
       "      <th>1</th>\n",
       "      <td>-1.948336</td>\n",
       "      <td>1.299573</td>\n",
       "      <td>-2.059818</td>\n",
       "      <td>-1.855442</td>\n",
       "      <td>-0.519379</td>\n",
       "      <td>1.824196</td>\n",
       "      <td>0.163259</td>\n",
       "      <td>1.025120</td>\n",
       "      <td>1.077412</td>\n",
       "      <td>-2.141210</td>\n",
       "      <td>-1.247501</td>\n",
       "      <td>-1.089900</td>\n",
       "      <td>0.159773</td>\n",
       "      <td>male</td>\n",
       "    </tr>\n",
       "    <tr>\n",
       "      <th>2</th>\n",
       "      <td>0.646042</td>\n",
       "      <td>0.495259</td>\n",
       "      <td>0.871554</td>\n",
       "      <td>0.640148</td>\n",
       "      <td>1.145548</td>\n",
       "      <td>-0.095419</td>\n",
       "      <td>-0.201828</td>\n",
       "      <td>0.608758</td>\n",
       "      <td>0.670084</td>\n",
       "      <td>0.694611</td>\n",
       "      <td>0.648140</td>\n",
       "      <td>0.567828</td>\n",
       "      <td>-0.761240</td>\n",
       "      <td>female</td>\n",
       "    </tr>\n",
       "    <tr>\n",
       "      <th>3</th>\n",
       "      <td>0.676572</td>\n",
       "      <td>-0.985618</td>\n",
       "      <td>0.417501</td>\n",
       "      <td>0.876052</td>\n",
       "      <td>-0.107268</td>\n",
       "      <td>-1.056066</td>\n",
       "      <td>-0.218332</td>\n",
       "      <td>-0.515259</td>\n",
       "      <td>-0.533573</td>\n",
       "      <td>0.230766</td>\n",
       "      <td>0.775463</td>\n",
       "      <td>0.602869</td>\n",
       "      <td>-0.112419</td>\n",
       "      <td>female</td>\n",
       "    </tr>\n",
       "    <tr>\n",
       "      <th>4</th>\n",
       "      <td>0.945822</td>\n",
       "      <td>-0.909062</td>\n",
       "      <td>0.667029</td>\n",
       "      <td>1.041938</td>\n",
       "      <td>0.402815</td>\n",
       "      <td>-0.962975</td>\n",
       "      <td>-0.219860</td>\n",
       "      <td>-0.715600</td>\n",
       "      <td>-0.588908</td>\n",
       "      <td>0.517069</td>\n",
       "      <td>0.611636</td>\n",
       "      <td>0.652038</td>\n",
       "      <td>-0.295663</td>\n",
       "      <td>female</td>\n",
       "    </tr>\n",
       "  </tbody>\n",
       "</table>\n",
       "</div>"
      ],
      "text/plain": [
       "   meanfreq        sd    median       Q25       Q75       IQR      kurt  \\\n",
       "0  0.053833  0.182412 -0.043344 -0.211354  0.539997  0.538854 -0.240888   \n",
       "1 -1.948336  1.299573 -2.059818 -1.855442 -0.519379  1.824196  0.163259   \n",
       "2  0.646042  0.495259  0.871554  0.640148  1.145548 -0.095419 -0.201828   \n",
       "3  0.676572 -0.985618  0.417501  0.876052 -0.107268 -1.056066 -0.218332   \n",
       "4  0.945822 -0.909062  0.667029  1.041938  0.402815 -0.962975 -0.219860   \n",
       "\n",
       "     sp.ent       sfm      mode   meanfun    minfun   modindx  gender  \n",
       "0  0.835319 -0.042416  0.207412 -0.837226  0.540973 -0.366495    male  \n",
       "1  1.025120  1.077412 -2.141210 -1.247501 -1.089900  0.159773    male  \n",
       "2  0.608758  0.670084  0.694611  0.648140  0.567828 -0.761240  female  \n",
       "3 -0.515259 -0.533573  0.230766  0.775463  0.602869 -0.112419  female  \n",
       "4 -0.715600 -0.588908  0.517069  0.611636  0.652038 -0.295663  female  "
      ]
     },
     "execution_count": 28,
     "metadata": {},
     "output_type": "execute_result"
    }
   ],
   "source": [
    "df.head()"
   ]
  },
  {
   "cell_type": "code",
   "execution_count": 29,
   "metadata": {},
   "outputs": [],
   "source": [
    "x = df.drop('gender',axis=1)\n",
    "y = df['gender']"
   ]
  },
  {
   "cell_type": "code",
   "execution_count": 30,
   "metadata": {},
   "outputs": [
    {
     "data": {
      "text/html": [
       "<div>\n",
       "<style scoped>\n",
       "    .dataframe tbody tr th:only-of-type {\n",
       "        vertical-align: middle;\n",
       "    }\n",
       "\n",
       "    .dataframe tbody tr th {\n",
       "        vertical-align: top;\n",
       "    }\n",
       "\n",
       "    .dataframe thead th {\n",
       "        text-align: right;\n",
       "    }\n",
       "</style>\n",
       "<table border=\"1\" class=\"dataframe\">\n",
       "  <thead>\n",
       "    <tr style=\"text-align: right;\">\n",
       "      <th></th>\n",
       "      <th>meanfreq</th>\n",
       "      <th>sd</th>\n",
       "      <th>median</th>\n",
       "      <th>Q25</th>\n",
       "      <th>Q75</th>\n",
       "      <th>IQR</th>\n",
       "      <th>kurt</th>\n",
       "      <th>sp.ent</th>\n",
       "      <th>sfm</th>\n",
       "      <th>mode</th>\n",
       "      <th>meanfun</th>\n",
       "      <th>minfun</th>\n",
       "      <th>modindx</th>\n",
       "    </tr>\n",
       "  </thead>\n",
       "  <tbody>\n",
       "    <tr>\n",
       "      <th>0</th>\n",
       "      <td>0.053833</td>\n",
       "      <td>0.182412</td>\n",
       "      <td>-0.043344</td>\n",
       "      <td>-0.211354</td>\n",
       "      <td>0.539997</td>\n",
       "      <td>0.538854</td>\n",
       "      <td>-0.240888</td>\n",
       "      <td>0.835319</td>\n",
       "      <td>-0.042416</td>\n",
       "      <td>0.207412</td>\n",
       "      <td>-0.837226</td>\n",
       "      <td>0.540973</td>\n",
       "      <td>-0.366495</td>\n",
       "    </tr>\n",
       "    <tr>\n",
       "      <th>1</th>\n",
       "      <td>-1.948336</td>\n",
       "      <td>1.299573</td>\n",
       "      <td>-2.059818</td>\n",
       "      <td>-1.855442</td>\n",
       "      <td>-0.519379</td>\n",
       "      <td>1.824196</td>\n",
       "      <td>0.163259</td>\n",
       "      <td>1.025120</td>\n",
       "      <td>1.077412</td>\n",
       "      <td>-2.141210</td>\n",
       "      <td>-1.247501</td>\n",
       "      <td>-1.089900</td>\n",
       "      <td>0.159773</td>\n",
       "    </tr>\n",
       "    <tr>\n",
       "      <th>2</th>\n",
       "      <td>0.646042</td>\n",
       "      <td>0.495259</td>\n",
       "      <td>0.871554</td>\n",
       "      <td>0.640148</td>\n",
       "      <td>1.145548</td>\n",
       "      <td>-0.095419</td>\n",
       "      <td>-0.201828</td>\n",
       "      <td>0.608758</td>\n",
       "      <td>0.670084</td>\n",
       "      <td>0.694611</td>\n",
       "      <td>0.648140</td>\n",
       "      <td>0.567828</td>\n",
       "      <td>-0.761240</td>\n",
       "    </tr>\n",
       "    <tr>\n",
       "      <th>3</th>\n",
       "      <td>0.676572</td>\n",
       "      <td>-0.985618</td>\n",
       "      <td>0.417501</td>\n",
       "      <td>0.876052</td>\n",
       "      <td>-0.107268</td>\n",
       "      <td>-1.056066</td>\n",
       "      <td>-0.218332</td>\n",
       "      <td>-0.515259</td>\n",
       "      <td>-0.533573</td>\n",
       "      <td>0.230766</td>\n",
       "      <td>0.775463</td>\n",
       "      <td>0.602869</td>\n",
       "      <td>-0.112419</td>\n",
       "    </tr>\n",
       "    <tr>\n",
       "      <th>4</th>\n",
       "      <td>0.945822</td>\n",
       "      <td>-0.909062</td>\n",
       "      <td>0.667029</td>\n",
       "      <td>1.041938</td>\n",
       "      <td>0.402815</td>\n",
       "      <td>-0.962975</td>\n",
       "      <td>-0.219860</td>\n",
       "      <td>-0.715600</td>\n",
       "      <td>-0.588908</td>\n",
       "      <td>0.517069</td>\n",
       "      <td>0.611636</td>\n",
       "      <td>0.652038</td>\n",
       "      <td>-0.295663</td>\n",
       "    </tr>\n",
       "  </tbody>\n",
       "</table>\n",
       "</div>"
      ],
      "text/plain": [
       "   meanfreq        sd    median       Q25       Q75       IQR      kurt  \\\n",
       "0  0.053833  0.182412 -0.043344 -0.211354  0.539997  0.538854 -0.240888   \n",
       "1 -1.948336  1.299573 -2.059818 -1.855442 -0.519379  1.824196  0.163259   \n",
       "2  0.646042  0.495259  0.871554  0.640148  1.145548 -0.095419 -0.201828   \n",
       "3  0.676572 -0.985618  0.417501  0.876052 -0.107268 -1.056066 -0.218332   \n",
       "4  0.945822 -0.909062  0.667029  1.041938  0.402815 -0.962975 -0.219860   \n",
       "\n",
       "     sp.ent       sfm      mode   meanfun    minfun   modindx  \n",
       "0  0.835319 -0.042416  0.207412 -0.837226  0.540973 -0.366495  \n",
       "1  1.025120  1.077412 -2.141210 -1.247501 -1.089900  0.159773  \n",
       "2  0.608758  0.670084  0.694611  0.648140  0.567828 -0.761240  \n",
       "3 -0.515259 -0.533573  0.230766  0.775463  0.602869 -0.112419  \n",
       "4 -0.715600 -0.588908  0.517069  0.611636  0.652038 -0.295663  "
      ]
     },
     "execution_count": 30,
     "metadata": {},
     "output_type": "execute_result"
    }
   ],
   "source": [
    "x.head()"
   ]
  },
  {
   "cell_type": "code",
   "execution_count": 31,
   "metadata": {},
   "outputs": [
    {
     "data": {
      "text/plain": [
       "0      male\n",
       "1      male\n",
       "2    female\n",
       "3    female\n",
       "4    female\n",
       "Name: gender, dtype: object"
      ]
     },
     "execution_count": 31,
     "metadata": {},
     "output_type": "execute_result"
    }
   ],
   "source": [
    "y.head()"
   ]
  },
  {
   "cell_type": "markdown",
   "metadata": {},
   "source": [
    "### Perform 10-Cross Validation for Support Vecor Machine (SVM)"
   ]
  },
  {
   "cell_type": "code",
   "execution_count": 32,
   "metadata": {},
   "outputs": [],
   "source": [
    "def perform_svm(x_train, y_train, x_test, y_test, i, k, kernel, display_stats=False):\n",
    "    svm_model = SVC(kernel=kernel)\n",
    "    svm_model.fit(x_train, y_train)\n",
    "    y_pred = svm_model.predict(x_test)\n",
    "\n",
    "    # Accuracy, Precision, Recall, F1-score of Model\n",
    "    accuracy = metrics.accuracy_score(y_test, y_pred)\n",
    "    precision = metrics.precision_score(y_test, y_pred, average='weighted')\n",
    "    recall = metrics.recall_score(y_test, y_pred, average='weighted')\n",
    "    f1_score = metrics.f1_score(y_test, y_pred, average='weighted')\n",
    "\n",
    "    if display_stats:\n",
    "        print(f\"Statistics for Fold {i} in K-fold (k={k}) 'Logistic Regression' algorithm\")\n",
    "        print(f\"Accuracy: {accuracy}\")\n",
    "        print(f\"Precision: {precision}\")\n",
    "        print(f\"Recall: {recall}\")\n",
    "        print(f\"F1-score: {f1_score}\")\n",
    "        print()\n",
    "\n",
    "    return np.array([accuracy, precision, recall, f1_score])"
   ]
  },
  {
   "cell_type": "markdown",
   "metadata": {},
   "source": [
    "Perform 10-Fold validation"
   ]
  },
  {
   "cell_type": "code",
   "execution_count": 33,
   "metadata": {},
   "outputs": [],
   "source": [
    "def runKFoldForActivation(kernel):\n",
    "    k = 10\n",
    "    i = 0\n",
    "    k_fold = KFold(n_splits=k)\n",
    "\n",
    "    # Holds Mean of {accuracy, precision, recall, f1_score}\n",
    "    mean_stats = np.zeros(4)\n",
    "\n",
    "    for train_index, test_index in k_fold.split(x):\n",
    "        x_train, x_test = x.loc[train_index], x.loc[test_index]\n",
    "        y_train, y_test = y.loc[train_index], y.loc[test_index]\n",
    "\n",
    "        stats = perform_svm(x_train, y_train, x_test, y_test, i:=i+1, k, display_stats=False, \n",
    "                                            kernel=kernel)\n",
    "        mean_stats = mean_stats + stats\n",
    "\n",
    "    # Take mean of {accuracy, precision, recall, f1_score}\n",
    "    mean_stats = mean_stats / k\n",
    "\n",
    "    print(f\"Mean accuracy: {mean_stats[0]*100}\")\n",
    "    print(f\"Mean Precision: {mean_stats[1]*100}\")\n",
    "    print(f\"Mean Recall: {mean_stats[2]*100}\")\n",
    "    print(f\"MeanF1-score: {mean_stats[3]*100}\")"
   ]
  },
  {
   "cell_type": "markdown",
   "metadata": {},
   "source": [
    "### SVM for linear Kernel"
   ]
  },
  {
   "cell_type": "code",
   "execution_count": 34,
   "metadata": {},
   "outputs": [
    {
     "name": "stdout",
     "output_type": "stream",
     "text": [
      "Mean accuracy: 97.5383340654075\n",
      "Mean Precision: 97.55326124357792\n",
      "Mean Recall: 97.5383340654075\n",
      "MeanF1-score: 97.53895558284148\n"
     ]
    }
   ],
   "source": [
    "runKFoldForActivation('linear')"
   ]
  },
  {
   "cell_type": "markdown",
   "metadata": {},
   "source": [
    "### SVM for polynomial Kernel"
   ]
  },
  {
   "cell_type": "code",
   "execution_count": 35,
   "metadata": {},
   "outputs": [
    {
     "name": "stdout",
     "output_type": "stream",
     "text": [
      "Mean accuracy: 95.83356626602244\n",
      "Mean Precision: 95.95715635633614\n",
      "Mean Recall: 95.83356626602244\n",
      "MeanF1-score: 95.83310678654658\n"
     ]
    }
   ],
   "source": [
    "runKFoldForActivation('poly')"
   ]
  },
  {
   "cell_type": "markdown",
   "metadata": {},
   "source": [
    "### SVM for RBF/Gaussian Kernel\n"
   ]
  },
  {
   "cell_type": "code",
   "execution_count": 36,
   "metadata": {},
   "outputs": [
    {
     "name": "stdout",
     "output_type": "stream",
     "text": [
      "Mean accuracy: 98.07481132452182\n",
      "Mean Precision: 98.09111022287436\n",
      "Mean Recall: 98.07481132452182\n",
      "MeanF1-score: 98.0752405183399\n"
     ]
    }
   ],
   "source": [
    "runKFoldForActivation('rbf')"
   ]
  },
  {
   "cell_type": "markdown",
   "metadata": {},
   "source": [
    "### SVM for Sigmoid Kernel"
   ]
  },
  {
   "cell_type": "code",
   "execution_count": 37,
   "metadata": {},
   "outputs": [
    {
     "name": "stdout",
     "output_type": "stream",
     "text": [
      "Mean accuracy: 88.19420596573892\n",
      "Mean Precision: 88.31710922536583\n",
      "Mean Recall: 88.19420596573892\n",
      "MeanF1-score: 88.19939735087829\n"
     ]
    }
   ],
   "source": [
    "runKFoldForActivation('sigmoid')"
   ]
  },
  {
   "cell_type": "markdown",
   "metadata": {},
   "source": [
    "## ROC-AUC Curve for SVM with Gaussian/RBF Kernel"
   ]
  },
  {
   "cell_type": "code",
   "execution_count": 38,
   "metadata": {},
   "outputs": [],
   "source": [
    "from sklearn.preprocessing import LabelEncoder\n",
    "from sklearn.metrics import roc_auc_score\n",
    "from sklearn.preprocessing import LabelEncoder\n",
    "from sklearn.preprocessing import label_binarize\n",
    "from sklearn import metrics"
   ]
  },
  {
   "cell_type": "code",
   "execution_count": 39,
   "metadata": {},
   "outputs": [],
   "source": [
    "le = LabelEncoder()\n",
    "Y_encoded = le.fit_transform(y)"
   ]
  },
  {
   "cell_type": "code",
   "execution_count": 40,
   "metadata": {},
   "outputs": [],
   "source": [
    "xtrain_roc, xtest_roc, ytrain_roc, ytest_roc = train_test_split(x, Y_encoded, test_size=0.2)"
   ]
  },
  {
   "cell_type": "code",
   "execution_count": 41,
   "metadata": {},
   "outputs": [],
   "source": [
    "def roc_auc(y_test, y_pred):\n",
    "    fig, axes = plt.subplots(nrows=2,ncols=1,figsize=(8,8))\n",
    "    lisrt=['male','female']\n",
    "    for m in range(2):\n",
    "        ls=[]\n",
    "        for j in y_test:\n",
    "            if m==j:\n",
    "                ls.append(1)\n",
    "            else:\n",
    "                ls.append(0)\n",
    "\n",
    "        fpr, tpr, thresh =  metrics.roc_curve(ls,y_pred[:,m])\n",
    "        auc = metrics.roc_auc_score(ls,y_pred[:,m])\n",
    "        axes[m].plot(fpr, tpr,  label=\"AUC = \" +str(auc), linestyle='--',color='red')\n",
    "        axes[m].set_title(f'ROC-AUC curve for class {lisrt[m]}')\n",
    "        axes[m].set_xlabel('False Positive Rate')\n",
    "        axes[m].set_ylabel('True Positive rate')\n",
    "        axes[m].legend(lisrt[m])\n",
    "        axes[m].text(0.5,0.0, f'AUC value :{auc}')\n",
    "        plt.savefig('images/ROC-AUC_SVM.png',dpi=300)\n",
    "        plt.tight_layout()"
   ]
  },
  {
   "cell_type": "code",
   "execution_count": 42,
   "metadata": {},
   "outputs": [
    {
     "name": "stdout",
     "output_type": "stream",
     "text": [
      "Accuracy Score : 0.9747634069400631\n"
     ]
    },
    {
     "data": {
      "image/png": "[encoded data removed]",
      "text/plain": [
       "<Figure size 576x576 with 2 Axes>"
      ]
     },
     "metadata": {},
     "output_type": "display_data"
    }
   ],
   "source": [
    "svm_model = SVC(kernel='rbf', probability=True)\n",
    "svm_model.fit(xtrain_roc, ytrain_roc)\n",
    "ypred_roc = svm_model.predict_proba(xtest_roc)\n",
    "\n",
    "print('Accuracy Score :', svm_model.score(xtest_roc, ytest_roc))\n",
    "\n",
    "roc_auc(ytest_roc, ypred_roc)"
   ]
  }
 ],
 "metadata": {
  "kernelspec": {
   "display_name": "Python 3.9.1 64-bit",
   "language": "python",
   "name": "python3"
  },
  "language_info": {
   "codemirror_mode": {
    "name": "ipython",
    "version": 3
   },
   "file_extension": ".py",
   "mimetype": "text/x-python",
   "name": "python",
   "nbconvert_exporter": "python",
   "pygments_lexer": "ipython3",
   "version": "3.9.1"
  },
  "orig_nbformat": 4,
  "vscode": {
   "interpreter": {
    "hash": "9269f51462d4e167d9acf092e2f34ae5b281125ea7b03b372f0c23ef1fea2876"
   }
  }
 },
 "nbformat": 4,
 "nbformat_minor": 2
}
