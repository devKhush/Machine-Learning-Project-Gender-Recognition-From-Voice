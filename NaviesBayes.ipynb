{
 "cells": [
  {
   "cell_type": "code",
   "execution_count": 30,
   "metadata": {},
   "outputs": [],
   "source": [
    "import numpy as np\n",
    "import pandas as pd\n",
    "import seaborn as sns\n",
    "import matplotlib.pyplot as plt"
   ]
  },
  {
   "cell_type": "code",
   "execution_count": 31,
   "metadata": {},
   "outputs": [],
   "source": [
    "from sklearn.model_selection import train_test_split\n",
    "from sklearn.linear_model import LogisticRegression \n",
    "from sklearn import metrics\n",
    "from sklearn.model_selection import KFold"
   ]
  },
  {
   "cell_type": "code",
   "execution_count": 32,
   "metadata": {},
   "outputs": [],
   "source": [
    "import warnings\n",
    "warnings.filterwarnings('ignore')"
   ]
  },
  {
   "cell_type": "code",
   "execution_count": 33,
   "metadata": {},
   "outputs": [],
   "source": [
    "df = pd.read_csv('assests\\scaled_voice_data.csv')"
   ]
  },
  {
   "cell_type": "code",
   "execution_count": 34,
   "metadata": {},
   "outputs": [
    {
     "data": {
      "text/html": [
       "<div>\n",
       "<style scoped>\n",
       "    .dataframe tbody tr th:only-of-type {\n",
       "        vertical-align: middle;\n",
       "    }\n",
       "\n",
       "    .dataframe tbody tr th {\n",
       "        vertical-align: top;\n",
       "    }\n",
       "\n",
       "    .dataframe thead th {\n",
       "        text-align: right;\n",
       "    }\n",
       "</style>\n",
       "<table border=\"1\" class=\"dataframe\">\n",
       "  <thead>\n",
       "    <tr style=\"text-align: right;\">\n",
       "      <th></th>\n",
       "      <th>meanfreq</th>\n",
       "      <th>sd</th>\n",
       "      <th>median</th>\n",
       "      <th>Q25</th>\n",
       "      <th>Q75</th>\n",
       "      <th>IQR</th>\n",
       "      <th>skew</th>\n",
       "      <th>kurt</th>\n",
       "      <th>sp.ent</th>\n",
       "      <th>sfm</th>\n",
       "      <th>...</th>\n",
       "      <th>centroid</th>\n",
       "      <th>meanfun</th>\n",
       "      <th>minfun</th>\n",
       "      <th>maxfun</th>\n",
       "      <th>meandom</th>\n",
       "      <th>mindom</th>\n",
       "      <th>maxdom</th>\n",
       "      <th>dfrange</th>\n",
       "      <th>modindx</th>\n",
       "      <th>gender</th>\n",
       "    </tr>\n",
       "  </thead>\n",
       "  <tbody>\n",
       "    <tr>\n",
       "      <th>0</th>\n",
       "      <td>0.073836</td>\n",
       "      <td>0.591989</td>\n",
       "      <td>0.154365</td>\n",
       "      <td>-0.232308</td>\n",
       "      <td>0.651033</td>\n",
       "      <td>0.624047</td>\n",
       "      <td>0.100932</td>\n",
       "      <td>-0.008774</td>\n",
       "      <td>1.005184</td>\n",
       "      <td>0.919347</td>\n",
       "      <td>...</td>\n",
       "      <td>0.073836</td>\n",
       "      <td>-1.238665</td>\n",
       "      <td>-0.830959</td>\n",
       "      <td>0.565959</td>\n",
       "      <td>0.793202</td>\n",
       "      <td>2.377614</td>\n",
       "      <td>0.481427</td>\n",
       "      <td>0.438824</td>\n",
       "      <td>-0.288187</td>\n",
       "      <td>male</td>\n",
       "    </tr>\n",
       "    <tr>\n",
       "      <th>1</th>\n",
       "      <td>1.154676</td>\n",
       "      <td>-0.955422</td>\n",
       "      <td>0.786977</td>\n",
       "      <td>1.120652</td>\n",
       "      <td>1.067673</td>\n",
       "      <td>-0.685178</td>\n",
       "      <td>-0.225935</td>\n",
       "      <td>-0.197671</td>\n",
       "      <td>-0.471031</td>\n",
       "      <td>-0.801835</td>\n",
       "      <td>...</td>\n",
       "      <td>1.154676</td>\n",
       "      <td>0.286996</td>\n",
       "      <td>0.550671</td>\n",
       "      <td>0.672624</td>\n",
       "      <td>-0.084909</td>\n",
       "      <td>-0.461523</td>\n",
       "      <td>1.142713</td>\n",
       "      <td>1.151375</td>\n",
       "      <td>-0.861679</td>\n",
       "      <td>female</td>\n",
       "    </tr>\n",
       "    <tr>\n",
       "      <th>2</th>\n",
       "      <td>1.147551</td>\n",
       "      <td>-0.249945</td>\n",
       "      <td>1.152662</td>\n",
       "      <td>0.669617</td>\n",
       "      <td>1.659033</td>\n",
       "      <td>0.154771</td>\n",
       "      <td>-0.291758</td>\n",
       "      <td>-0.214387</td>\n",
       "      <td>0.049465</td>\n",
       "      <td>-0.374170</td>\n",
       "      <td>...</td>\n",
       "      <td>1.147551</td>\n",
       "      <td>0.689055</td>\n",
       "      <td>0.567828</td>\n",
       "      <td>0.618983</td>\n",
       "      <td>1.027454</td>\n",
       "      <td>-0.461523</td>\n",
       "      <td>1.056169</td>\n",
       "      <td>1.064803</td>\n",
       "      <td>-0.380272</td>\n",
       "      <td>female</td>\n",
       "    </tr>\n",
       "    <tr>\n",
       "      <th>3</th>\n",
       "      <td>0.985811</td>\n",
       "      <td>-0.627594</td>\n",
       "      <td>0.702340</td>\n",
       "      <td>1.136456</td>\n",
       "      <td>0.774764</td>\n",
       "      <td>-0.865004</td>\n",
       "      <td>-0.269119</td>\n",
       "      <td>-0.219037</td>\n",
       "      <td>-0.291000</td>\n",
       "      <td>-0.358500</td>\n",
       "      <td>...</td>\n",
       "      <td>0.985811</td>\n",
       "      <td>0.454646</td>\n",
       "      <td>0.538560</td>\n",
       "      <td>0.672624</td>\n",
       "      <td>1.278238</td>\n",
       "      <td>2.130732</td>\n",
       "      <td>0.243985</td>\n",
       "      <td>0.205746</td>\n",
       "      <td>-0.247591</td>\n",
       "      <td>female</td>\n",
       "    </tr>\n",
       "    <tr>\n",
       "      <th>4</th>\n",
       "      <td>-0.462124</td>\n",
       "      <td>0.438431</td>\n",
       "      <td>-0.107705</td>\n",
       "      <td>-0.675807</td>\n",
       "      <td>-0.170199</td>\n",
       "      <td>0.674910</td>\n",
       "      <td>-0.299355</td>\n",
       "      <td>-0.208935</td>\n",
       "      <td>0.883454</td>\n",
       "      <td>0.635008</td>\n",
       "      <td>...</td>\n",
       "      <td>-0.462124</td>\n",
       "      <td>-1.243998</td>\n",
       "      <td>-0.830959</td>\n",
       "      <td>-0.294030</td>\n",
       "      <td>-0.364441</td>\n",
       "      <td>2.624495</td>\n",
       "      <td>0.044268</td>\n",
       "      <td>-0.002914</td>\n",
       "      <td>-1.271045</td>\n",
       "      <td>male</td>\n",
       "    </tr>\n",
       "  </tbody>\n",
       "</table>\n",
       "<p>5 rows × 21 columns</p>\n",
       "</div>"
      ],
      "text/plain": [
       "   meanfreq        sd    median       Q25       Q75       IQR      skew  \\\n",
       "0  0.073836  0.591989  0.154365 -0.232308  0.651033  0.624047  0.100932   \n",
       "1  1.154676 -0.955422  0.786977  1.120652  1.067673 -0.685178 -0.225935   \n",
       "2  1.147551 -0.249945  1.152662  0.669617  1.659033  0.154771 -0.291758   \n",
       "3  0.985811 -0.627594  0.702340  1.136456  0.774764 -0.865004 -0.269119   \n",
       "4 -0.462124  0.438431 -0.107705 -0.675807 -0.170199  0.674910 -0.299355   \n",
       "\n",
       "       kurt    sp.ent       sfm  ...  centroid   meanfun    minfun    maxfun  \\\n",
       "0 -0.008774  1.005184  0.919347  ...  0.073836 -1.238665 -0.830959  0.565959   \n",
       "1 -0.197671 -0.471031 -0.801835  ...  1.154676  0.286996  0.550671  0.672624   \n",
       "2 -0.214387  0.049465 -0.374170  ...  1.147551  0.689055  0.567828  0.618983   \n",
       "3 -0.219037 -0.291000 -0.358500  ...  0.985811  0.454646  0.538560  0.672624   \n",
       "4 -0.208935  0.883454  0.635008  ... -0.462124 -1.243998 -0.830959 -0.294030   \n",
       "\n",
       "    meandom    mindom    maxdom   dfrange   modindx  gender  \n",
       "0  0.793202  2.377614  0.481427  0.438824 -0.288187    male  \n",
       "1 -0.084909 -0.461523  1.142713  1.151375 -0.861679  female  \n",
       "2  1.027454 -0.461523  1.056169  1.064803 -0.380272  female  \n",
       "3  1.278238  2.130732  0.243985  0.205746 -0.247591  female  \n",
       "4 -0.364441  2.624495  0.044268 -0.002914 -1.271045    male  \n",
       "\n",
       "[5 rows x 21 columns]"
      ]
     },
     "execution_count": 34,
     "metadata": {},
     "output_type": "execute_result"
    }
   ],
   "source": [
    "df.head()"
   ]
  },
  {
   "cell_type": "code",
   "execution_count": 35,
   "metadata": {},
   "outputs": [
    {
     "data": {
      "text/plain": [
       "(3168, 21)"
      ]
     },
     "execution_count": 35,
     "metadata": {},
     "output_type": "execute_result"
    }
   ],
   "source": [
    "df.shape"
   ]
  },
  {
   "cell_type": "code",
   "execution_count": 36,
   "metadata": {},
   "outputs": [
    {
     "name": "stdout",
     "output_type": "stream",
     "text": [
      "(3168, 20)\n",
      "(3168,)\n"
     ]
    }
   ],
   "source": [
    "x_loc = df.iloc[:,:-1]\n",
    "y_loc = df.iloc[:,20]\n",
    "\n",
    "print(x_loc.shape)\n",
    "print(y_loc.shape)\n",
    "#splitting Dataset into train_test_split\n",
    "X_train, X_test, Y_train, Y_test = train_test_split(x_loc,y_loc,test_size = 0.20, random_state = 0)\n",
    "gnb = GaussianNB()\n",
    "gnb.fit(X_train,Y_train)\n",
    "Y_predicted = gnb.predict(X_test)"
   ]
  },
  {
   "cell_type": "code",
   "execution_count": 37,
   "metadata": {},
   "outputs": [
    {
     "name": "stdout",
     "output_type": "stream",
     "text": [
      "Accuracy from Gaussian Naive Bayes : 89.1167192429022\n",
      "precision from Gaussian Naive Bayes : 89.1167192429022\n",
      "Recall from Gaussian Naive Bayes : 89.1167192429022\n"
     ]
    }
   ],
   "source": [
    "from sklearn.metrics import accuracy_score, confusion_matrix, precision_score, recall_score\n",
    "Gauss_accuracy = accuracy_score(Y_test, Y_predicted)*100\n",
    "Gauss_precision = precision_score(Y_test, Y_predicted,average ='micro')*100\n",
    "Gauss_recall = recall_score(Y_test, Y_predicted,average ='micro')*100\n",
    "print(\"Accuracy from Gaussian Naive Bayes : \"+ str(Gauss_accuracy))\n",
    "print(\"precision from Gaussian Naive Bayes : \"+ str(Gauss_precision))\n",
    "print(\"Recall from Gaussian Naive Bayes : \"+ str(Gauss_recall))"
   ]
  },
  {
   "cell_type": "code",
   "execution_count": null,
   "metadata": {},
   "outputs": [],
   "source": [
    "# Categorical Naive Bayes \n",
    "# cnb = CategoricalNB()\n",
    "# cnb.fit(X_train,Y_train)\n",
    "# Y_predicted_cnb = cnb.predict(X_test)"
   ]
  },
  {
   "cell_type": "code",
   "execution_count": 40,
   "metadata": {},
   "outputs": [],
   "source": [
    "# Multinomial Naive Bayes \n",
    "\n"
   ]
  },
  {
   "cell_type": "code",
   "execution_count": 38,
   "metadata": {},
   "outputs": [],
   "source": [
    "# from sklearn.naive_bayes import MultinomialNB\n",
    "# cnb = BinomialNB()\n",
    "# cnb.fit(X_train,Y_train)\n",
    "\n",
    "# Ycnb_predicted = cnb.predict(X_test)\n",
    "# #print(Ycnb_predicted)\n",
    "\n",
    "# categroical_accuracy = accuracy_score(Y_test, Ycnb_predicted)*100\n",
    "# #print(categroical_accuracy)\n",
    "\n",
    "# cate_accuracy = accuracy_score(Y_test, Ycnb_predicted)*100\n",
    "# cate_precision = precision_score(Y_test, Ycnb_predicted,average ='micro')*100\n",
    "# cate_recall = recall_score(Y_test, Ycnb_predicted,average ='micro')*100\n",
    "# print(\"Accuracy from Categorical  Naive Bayes : \"+ str(cate_accuracy))\n",
    "# print(\"Precision from Categorical  Naive Bayes : \"+ str(cate_precision))\n",
    "# print(\"Recall from Categorical  Naive Bayes : \"+ str(cate_recall))\n"
   ]
  },
  {
   "cell_type": "code",
   "execution_count": null,
   "metadata": {},
   "outputs": [],
   "source": []
  }
 ],
 "metadata": {
  "kernelspec": {
   "display_name": "Python 3.9.13 64-bit",
   "language": "python",
   "name": "python3"
  },
  "language_info": {
   "codemirror_mode": {
    "name": "ipython",
    "version": 3
   },
   "file_extension": ".py",
   "mimetype": "text/x-python",
   "name": "python",
   "nbconvert_exporter": "python",
   "pygments_lexer": "ipython3",
   "version": "3.9.13"
  },
  "orig_nbformat": 4,
  "vscode": {
   "interpreter": {
    "hash": "c5a9b1db969bd97e3f32583f3a99082870c34f33146338eecd0964e32ada8b48"
   }
  }
 },
 "nbformat": 4,
 "nbformat_minor": 2
}
